{
 "cells": [
  {
   "cell_type": "markdown",
   "id": "02ca80a1-2b6d-4b93-b3aa-844fed6aa1b0",
   "metadata": {
    "tags": []
   },
   "source": [
    "# Multiple Lineare Regression"
   ]
  },
  {
   "cell_type": "code",
   "execution_count": 29,
   "id": "45e49ce9-0bd9-431e-8605-8ed5cd874bc5",
   "metadata": {},
   "outputs": [],
   "source": [
    "# Import des Apple Datensatzes\n",
    "%store -r df"
   ]
  },
  {
   "cell_type": "code",
   "execution_count": 30,
   "id": "0a223d5c-0537-4780-90bb-9d620a7edd48",
   "metadata": {},
   "outputs": [],
   "source": [
    "# Import der benötigten Bibliotheken\n",
    "import numpy as np\n",
    "from sklearn.model_selection import train_test_split\n",
    "from sklearn.linear_model import LinearRegression\n",
    "from sklearn.metrics import mean_absolute_error, mean_squared_error, mean_absolute_percentage_error\n",
    "from sklearn.preprocessing import MinMaxScaler"
   ]
  },
  {
   "cell_type": "code",
   "execution_count": 31,
   "id": "49e8c4cc-420a-4c7a-b5b5-c99b03ac7c14",
   "metadata": {
    "tags": []
   },
   "outputs": [],
   "source": [
    "# Aufteilung der Daten in Test- und Trainingsdaten\n",
    "X_train, X_test, y_train, y_test = train_test_split(df.drop(columns = [\"close_next\"]), df[\"close_next\"], train_size = 0.75, random_state = 42, shuffle=False)\n",
    "\n",
    "# Daten Normalisieren mithilfe des MinMaxScaler\n",
    "sc = MinMaxScaler()\n",
    "X_train_scaled = sc.fit_transform(X_train)\n",
    "X_test_scaled = sc.transform(X_test)"
   ]
  },
  {
   "cell_type": "code",
   "execution_count": 32,
   "id": "50e614bc-667a-498b-a465-3c62fa831950",
   "metadata": {},
   "outputs": [
    {
     "name": "stdout",
     "output_type": "stream",
     "text": [
      "test R^2 score Lineare Regression: 99.90%\n",
      "Mean Absolute Error (MAE) Lineare Regression: 0.89\n",
      "Mean Squared Error (MSE) Lineare Regression: 2.54\n",
      "Root Mean Squared Error (RMSE) Lineare Regression: 1.59\n",
      "Mean Absolute Percentage Error (MAPE) Lineare Regression: 0.01\n"
     ]
    }
   ],
   "source": [
    "# lineare Regression\n",
    "\n",
    "# Modell Trainieren\n",
    "lr = LinearRegression()\n",
    "lr.fit(X_train_scaled, y_train)\n",
    "\n",
    "# Bewertung auf Basis der Testdaten\n",
    "lr_test_score = lr.score(X_test_scaled, y_test)\n",
    "print(\"test R^2 score Lineare Regression: {:.2f}%\".format(lr_test_score * 100))\n",
    "\n",
    "# Vorhersage auf Basis der Testdaten\n",
    "y_pred = lr.predict(X_test_scaled)\n",
    "\n",
    "# mean_squared_error\n",
    "mse = mean_squared_error(y_test, y_pred)\n",
    "\n",
    "# mean_absolute_error\n",
    "mae = mean_absolute_error(y_test, y_pred)\n",
    "\n",
    "# Root mean squared error\n",
    "rmse = np.sqrt(mse)\n",
    "\n",
    "# mean absolute percentage error\n",
    "mape = mean_absolute_percentage_error(y_test, y_pred)\n",
    "\n",
    "print(\"Mean Absolute Error (MAE) Lineare Regression: {:.2f}\".format(mae))\n",
    "print(\"Mean Squared Error (MSE) Lineare Regression: {:.2f}\".format(mse))\n",
    "print(\"Root Mean Squared Error (RMSE) Lineare Regression: {:.2f}\".format(rmse))\n",
    "print(\"Mean Absolute Percentage Error (MAPE) Lineare Regression: {:.2f}\".format(mape))"
   ]
  }
 ],
 "metadata": {
  "kernelspec": {
   "display_name": "testenv_smp",
   "language": "python",
   "name": "testenv_smp"
  },
  "language_info": {
   "codemirror_mode": {
    "name": "ipython",
    "version": 3
   },
   "file_extension": ".py",
   "mimetype": "text/x-python",
   "name": "python",
   "nbconvert_exporter": "python",
   "pygments_lexer": "ipython3",
   "version": "3.10.11"
  }
 },
 "nbformat": 4,
 "nbformat_minor": 5
}
