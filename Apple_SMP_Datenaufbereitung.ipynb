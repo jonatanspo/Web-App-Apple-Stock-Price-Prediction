{
 "cells": [
  {
   "cell_type": "markdown",
   "id": "7a780deb-f625-4e48-9699-c10b77ab40c6",
   "metadata": {
    "tags": []
   },
   "source": [
    "# Datenaufbereitung"
   ]
  },
  {
   "cell_type": "code",
   "execution_count": 62,
   "id": "7141361b-fea2-4455-b842-ad7078932342",
   "metadata": {},
   "outputs": [],
   "source": [
    "# Import der benötigten Bibliotheken\n",
    "import pandas as pd \n",
    "import numpy as np\n",
    "import matplotlib.pyplot as plt\n",
    "import seaborn as sns\n",
    "\n",
    "# Datensatz Apple Aktie einlesen\n",
    "df = pd.read_csv(\"AAPL.csv\", index_col = [\"Date\"], parse_dates=[\"Date\"]).drop([\"Adj Close\"], axis = 1)"
   ]
  },
  {
   "cell_type": "code",
   "execution_count": 63,
   "id": "012d5531-245b-4aca-baf9-dd8c60f194e2",
   "metadata": {},
   "outputs": [
    {
     "name": "stdout",
     "output_type": "stream",
     "text": [
      "                Open      High       Low     Close     Volume\n",
      "Date                                                         \n",
      "1980-12-12  0.128348  0.128906  0.128348  0.128348  469033600\n",
      "1980-12-15  0.122210  0.122210  0.121652  0.121652  175884800\n",
      "1980-12-16  0.113281  0.113281  0.112723  0.112723  105728000\n",
      "1980-12-17  0.115513  0.116071  0.115513  0.115513   86441600\n",
      "1980-12-18  0.118862  0.119420  0.118862  0.118862   73449600\n"
     ]
    }
   ],
   "source": [
    "print(df.head())"
   ]
  },
  {
   "cell_type": "code",
   "execution_count": 64,
   "id": "b82bbdfc-bfd8-45f6-8e4a-4eec38e5a3ed",
   "metadata": {},
   "outputs": [
    {
     "name": "stdout",
     "output_type": "stream",
     "text": [
      "<class 'pandas.core.frame.DataFrame'>\n",
      "DatetimeIndex: 10683 entries, 1980-12-12 to 2023-04-27\n",
      "Data columns (total 5 columns):\n",
      " #   Column  Non-Null Count  Dtype  \n",
      "---  ------  --------------  -----  \n",
      " 0   Open    10683 non-null  float64\n",
      " 1   High    10683 non-null  float64\n",
      " 2   Low     10683 non-null  float64\n",
      " 3   Close   10683 non-null  float64\n",
      " 4   Volume  10683 non-null  int64  \n",
      "dtypes: float64(4), int64(1)\n",
      "memory usage: 500.8 KB\n",
      "None\n",
      "               Open          High           Low         Close        Volume\n",
      "count  10683.000000  10683.000000  10683.000000  10683.000000  1.068300e+04\n",
      "mean      17.475500     17.675462     17.281943     17.486984  3.256989e+08\n",
      "std       36.877935     37.325868     36.457515     36.912783  3.373485e+08\n",
      "min        0.049665      0.049665      0.049107      0.049107  0.000000e+00\n",
      "25%        0.288783      0.297991      0.283482      0.290179  1.197112e+08\n",
      "50%        0.491071      0.500000      0.484375      0.491607  2.127776e+08\n",
      "75%       17.223928     17.434820     17.088928     17.246072  4.054288e+08\n",
      "max      182.630005    182.940002    179.119995    182.009995  7.421641e+09\n",
      "Open      0\n",
      "High      0\n",
      "Low       0\n",
      "Close     0\n",
      "Volume    0\n",
      "dtype: int64\n"
     ]
    }
   ],
   "source": [
    "print(df.info())\n",
    "print(df.describe())\n",
    "print(df.isna().sum())"
   ]
  },
  {
   "cell_type": "code",
   "execution_count": 53,
   "id": "6c12e16f-3d43-49eb-8932-efc4c8374720",
   "metadata": {},
   "outputs": [],
   "source": [
    "# Schlusskurs des darauffolgenden Tages in den Datensatz mitaufnehmen\n",
    "df[\"close_next\"] = df[\"Close\"].shift(-1)\n",
    "df = df.dropna()"
   ]
  },
  {
   "cell_type": "code",
   "execution_count": 54,
   "id": "12ae90fb-b800-4103-9584-6f91d5c86b47",
   "metadata": {},
   "outputs": [],
   "source": [
    "# Importieren des aufbereiteten Datensatzes des NASDAQ Composite Index\n",
    "%store -r df_IXIC"
   ]
  },
  {
   "cell_type": "code",
   "execution_count": 55,
   "id": "74c714c5-6605-4cb3-9004-d859dc7ff33e",
   "metadata": {},
   "outputs": [
    {
     "name": "stdout",
     "output_type": "stream",
     "text": [
      "            diff_IXIC\n",
      "Date                 \n",
      "1980-12-12   1.308610\n",
      "1980-12-15   1.464284\n",
      "1980-12-16  -1.102979\n",
      "1980-12-17   1.115280\n",
      "1980-12-18   1.025663\n"
     ]
    }
   ],
   "source": [
    "print(df_IXIC.head())"
   ]
  },
  {
   "cell_type": "code",
   "execution_count": 61,
   "id": "37522f1c-8e53-42e3-a4b4-ab0963858799",
   "metadata": {},
   "outputs": [],
   "source": [
    "# Erstellung einer neuen Spalte mit der täglichen prozentualen Veränderung des NASDAQ Composite Index\n",
    "df[\"IXIC\"] = df_IXIC[\"diff_IXIC\"]"
   ]
  },
  {
   "cell_type": "code",
   "execution_count": 57,
   "id": "910b4dec-8a45-4cb5-9954-3f2aa7126ac0",
   "metadata": {},
   "outputs": [
    {
     "name": "stdout",
     "output_type": "stream",
     "text": [
      "                  Open        High         Low       Close     Volume   \n",
      "Date                                                                    \n",
      "1980-12-12    0.128348    0.128906    0.128348    0.128348  469033600  \\\n",
      "1980-12-15    0.122210    0.122210    0.121652    0.121652  175884800   \n",
      "1980-12-16    0.113281    0.113281    0.112723    0.112723  105728000   \n",
      "1980-12-17    0.115513    0.116071    0.115513    0.115513   86441600   \n",
      "1980-12-18    0.118862    0.119420    0.118862    0.118862   73449600   \n",
      "...                ...         ...         ...         ...        ...   \n",
      "2023-04-19  165.800003  168.160004  165.539993  167.630005   47720200   \n",
      "2023-04-20  166.089996  167.869995  165.559998  166.649994   52456400   \n",
      "2023-04-21  165.050003  166.449997  164.490005  165.020004   58311900   \n",
      "2023-04-24  165.000000  165.600006  163.889999  165.330002   41949600   \n",
      "2023-04-25  165.190002  166.309998  163.729996  163.770004   48714100   \n",
      "\n",
      "            close_next      IXIC  \n",
      "Date                              \n",
      "1980-12-12    0.121652  1.308610  \n",
      "1980-12-15    0.112723  1.464284  \n",
      "1980-12-16    0.115513 -1.102979  \n",
      "1980-12-17    0.118862  1.115280  \n",
      "1980-12-18    0.126116  1.025663  \n",
      "...                ...       ...  \n",
      "2023-04-19  166.649994  0.031434  \n",
      "2023-04-20  165.020004 -0.803398  \n",
      "2023-04-21  165.330002  0.106972  \n",
      "2023-04-24  163.770004 -0.292068  \n",
      "2023-04-25  163.759995 -1.977537  \n",
      "\n",
      "[10681 rows x 7 columns]\n"
     ]
    }
   ],
   "source": [
    "print(df.head(-1))"
   ]
  },
  {
   "cell_type": "code",
   "execution_count": 58,
   "id": "64453827-1a98-4fef-8de1-ee8fe819b43e",
   "metadata": {},
   "outputs": [],
   "source": [
    "# Hinzunahme des 20 Tage EMA in den Datensatz\n",
    "%store -r ema_list\n",
    "\n",
    "del ema_list[-1]\n",
    "\n",
    "df.drop(df.index[:20], inplace = True)\n",
    "\n",
    "ema_list = pd.Series(ema_list, index=df.index)\n",
    "\n",
    "df[\"ema_20\"] = ema_list"
   ]
  },
  {
   "cell_type": "code",
   "execution_count": 59,
   "id": "200864e2-e2bc-47ae-9cb8-00aaa23b89a1",
   "metadata": {
    "tags": []
   },
   "outputs": [
    {
     "name": "stdout",
     "output_type": "stream",
     "text": [
      "                Open      High       Low     Close    Volume  close_next   \n",
      "Date                                                                       \n",
      "1981-01-13  0.136719  0.136719  0.136161  0.136161  23049600    0.136719  \\\n",
      "1981-01-14  0.136719  0.137277  0.136719  0.136719  14291200    0.139509   \n",
      "1981-01-15  0.139509  0.140625  0.139509  0.139509  14067200    0.138393   \n",
      "1981-01-16  0.138951  0.138951  0.138393  0.138393  13395200    0.146763   \n",
      "1981-01-19  0.146763  0.147321  0.146763  0.146763  41574400    0.142299   \n",
      "\n",
      "                IXIC    ema_20  \n",
      "Date                            \n",
      "1981-01-13 -0.196532  0.138357  \n",
      "1981-01-14  0.520070  0.138201  \n",
      "1981-01-15  0.386781  0.138326  \n",
      "1981-01-16  0.640480  0.138332  \n",
      "1981-01-19  0.223734  0.139135  \n"
     ]
    }
   ],
   "source": [
    "print(df.head())"
   ]
  },
  {
   "cell_type": "code",
   "execution_count": 60,
   "id": "dbdfd2e5-b8aa-44ad-8eb6-da086e1e603f",
   "metadata": {},
   "outputs": [
    {
     "name": "stdout",
     "output_type": "stream",
     "text": [
      "Stored 'df' (DataFrame)\n"
     ]
    }
   ],
   "source": [
    "# Speicher des Datensatzes als df\n",
    "%store df"
   ]
  }
 ],
 "metadata": {
  "kernelspec": {
   "display_name": "testenv_smp",
   "language": "python",
   "name": "testenv_smp"
  },
  "language_info": {
   "codemirror_mode": {
    "name": "ipython",
    "version": 3
   },
   "file_extension": ".py",
   "mimetype": "text/x-python",
   "name": "python",
   "nbconvert_exporter": "python",
   "pygments_lexer": "ipython3",
   "version": "3.10.11"
  }
 },
 "nbformat": 4,
 "nbformat_minor": 5
}
