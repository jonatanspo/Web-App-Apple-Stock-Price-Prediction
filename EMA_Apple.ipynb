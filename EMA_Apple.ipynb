{
 "cells": [
  {
   "cell_type": "markdown",
   "id": "153d899f-08a8-47a1-81d8-e131ac1b1572",
   "metadata": {},
   "source": [
    "# Exponential Moving Average \n",
    "\n",
    "Die Funktion *calculate_ema* erstellt die Liste *ema_list*, die alle 20-Tage EMA Werte für jeden Börsentag der Apple Aktie seid dem 13.01.1981 beinhaltet. Diese Liste wird nun gespeichert, damit sie in dem Jupyter Notebook *Apple_SMP_Datenaufbereitung* weiter verwendet werden und als zusätliches Merkmal in den Datensatz aufgenommen werden kann. "
   ]
  },
  {
   "cell_type": "code",
   "execution_count": 32,
   "id": "8dbea163-0cba-4f63-aa4a-084d33e99b32",
   "metadata": {},
   "outputs": [],
   "source": [
    "# Import der benötigten Bibliothek\n",
    "import pandas as pd \n",
    "\n",
    "# Einlesen des AAPL Datensatzes\n",
    "df = pd.read_csv(\"AAPL.csv\") "
   ]
  },
  {
   "cell_type": "code",
   "execution_count": 33,
   "id": "5618d0f1-597a-4743-a59c-74b7f29bef62",
   "metadata": {},
   "outputs": [],
   "source": [
    "# Funktion zur Berechnung des 20 Tage EMA\n",
    "def calculate_ema(data): \n",
    "\n",
    "    # Berechnung einacher SMA (20-Tage) -> Vortag um den EMA des 21. Tages zu berechnen\n",
    "    sma = sum(data[:20]) / 20\n",
    "\n",
    "    # Multiplikator bestimmen\n",
    "    multiplikator = 2 / (20 + 1)\n",
    "\n",
    "    # EMA 20 von dem 1981-01-13 bestimmen\n",
    "    ema = ((data[20] - sma) * multiplikator) + sma\n",
    "    \n",
    "    # Liste erstellen um alle EMA Werte zu speichern\n",
    "    ema_list = [ema]\n",
    "    \n",
    "    sub_data = data[21:]\n",
    "\n",
    "    for i in range (0, len(sub_data)): \n",
    "        ema = ((sub_data[i] - ema) * multiplikator)+ ema\n",
    "        ema_list.append(ema)\n",
    "        \n",
    "    return ema_list\n",
    "\n",
    "ema_list = calculate_ema(df[\"Close\"].tolist());"
   ]
  },
  {
   "cell_type": "code",
   "execution_count": 34,
   "id": "45ce57c7-d2bd-4520-aded-8977b939f87a",
   "metadata": {},
   "outputs": [
    {
     "name": "stdout",
     "output_type": "stream",
     "text": [
      "Stored 'ema_list' (list)\n"
     ]
    }
   ],
   "source": [
    "# Abspeicher der 20 Tage EMA Werte\n",
    "%store ema_list"
   ]
  }
 ],
 "metadata": {
  "kernelspec": {
   "display_name": "testenv_smp",
   "language": "python",
   "name": "testenv_smp"
  },
  "language_info": {
   "codemirror_mode": {
    "name": "ipython",
    "version": 3
   },
   "file_extension": ".py",
   "mimetype": "text/x-python",
   "name": "python",
   "nbconvert_exporter": "python",
   "pygments_lexer": "ipython3",
   "version": "3.10.11"
  }
 },
 "nbformat": 4,
 "nbformat_minor": 5
}
