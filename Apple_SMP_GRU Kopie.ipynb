{
 "cells": [
  {
   "cell_type": "markdown",
   "id": "ecfeccd5-12b7-4ec1-bad5-18916ce6d9bd",
   "metadata": {},
   "source": [
    "# Gated Recurrent Unit"
   ]
  },
  {
   "cell_type": "code",
   "execution_count": 34,
   "id": "77c5e8c7-8e4e-4e35-8b91-719e0fc50a92",
   "metadata": {},
   "outputs": [],
   "source": [
    "# Import des Apple Datensatzes\n",
    "%store -r df"
   ]
  },
  {
   "cell_type": "code",
   "execution_count": 48,
   "id": "5458536f-946a-4f1d-94ff-b5a19488cf3e",
   "metadata": {},
   "outputs": [],
   "source": [
    "# Import der benötigten Bibliotheken für Neuronale Netze\n",
    "import numpy as np\n",
    "from sklearn.model_selection import train_test_split\n",
    "from sklearn.metrics import mean_absolute_error, mean_squared_error, mean_absolute_percentage_error\n",
    "from sklearn.preprocessing import MinMaxScaler\n",
    "\n",
    "from scikeras.wrappers import KerasRegressor\n",
    "from tensorflow.keras.models import Sequential\n",
    "from tensorflow.keras.layers import Dense, Dropout, GRU\n",
    "from tensorflow.keras.optimizers import Adam\n",
    "from tensorflow.keras import regularizers"
   ]
  },
  {
   "cell_type": "code",
   "execution_count": 49,
   "id": "7b292c01-2e1f-4f02-abb4-5d5db1612d45",
   "metadata": {},
   "outputs": [],
   "source": [
    "# Aufteilung in Trainings- und Testdaten\n",
    "X = df.drop(columns = [\"close_next\"])\n",
    "y = df[\"close_next\"]\n",
    "\n",
    "# Trainings- und Testdaten\n",
    "X_train_test, X_test, y_train_test, y_test = train_test_split(X, y, test_size = 0.2, random_state = 42)\n",
    "\n",
    "# Trainings- und Validierungsdaten\n",
    "X_train, X_val, y_train, y_val = train_test_split(X_train_test, y_train_test, test_size = 0.25, random_state = 42)\n",
    "\n",
    "# Daten Normalisieren mithilfe des MinMaxScaler\n",
    "sc = MinMaxScaler()\n",
    "X_train_scaled = sc.fit_transform(X_train)\n",
    "X_test_scaled = sc.transform(X_test)\n",
    "X_val_scaled = sc.transform(X_val)"
   ]
  },
  {
   "cell_type": "code",
   "execution_count": 55,
   "id": "bf672911-37ee-4238-9da1-7ed60df12c7b",
   "metadata": {},
   "outputs": [],
   "source": [
    "# Reshape der Eingabedaten, damit das GRU-Modell trainiert werden kann\n",
    "X_train_reshaped = X_train_scaled.reshape(X_train_scaled.shape[0], 1, X_train_scaled.shape[1])\n",
    "X_test_reshaped = X_test_scaled.reshape(X_test_scaled.shape[0], 1, X_test_scaled.shape[1])\n",
    "X_val_reshaped = X_val_scaled.reshape(X_val_scaled.shape[0], 1, X_val_scaled.shape[1])"
   ]
  },
  {
   "cell_type": "markdown",
   "id": "b1494323-8237-43d2-9e6e-dfe15cbc35da",
   "metadata": {},
   "source": [
    "### GRU-Modell:"
   ]
  },
  {
   "cell_type": "code",
   "execution_count": 78,
   "id": "cf73e83b-aaf8-45bf-9e3d-e5b639ebed8c",
   "metadata": {},
   "outputs": [
    {
     "name": "stdout",
     "output_type": "stream",
     "text": [
      "test R^2 score Gated Recurrent Unit: 99.93%\n",
      "Mean Absolute Error (MAE) Gated Recurrent Unit: 0.55\n",
      "Mean Squared Error (MSE) Gated Recurrent Unit: 1.07\n",
      "Root Mean Squared Error (RMSE) Gated Recurrent Unit: 1.03\n",
      "Mean Absolute Percentage Error (MAPE) Gated Recurrent Unit: 0.44\n"
     ]
    }
   ],
   "source": [
    "# Funktion zur Erstellung des Keras Modells\n",
    "def create_model():\n",
    "    model = Sequential()\n",
    "    \n",
    "    #Erste GRU-Schicht\n",
    "    model.add(GRU(units = 256, return_sequences = True, input_shape = (1, 7)))\n",
    "    model.add(Dropout(0.2))\n",
    "    \n",
    "    #Zweite GRU-Schicht\n",
    "    model.add(GRU(units = 512, return_sequences = True))\n",
    "    model.add(Dropout(0.2))\n",
    "    \n",
    "    #dritte GRU-Schicht\n",
    "    model.add(GRU(units = 512, return_sequences = True))\n",
    "    model.add(Dropout(0.2))\n",
    "\n",
    "    #vierte GRU-Schicht\n",
    "    model.add(GRU(units = 256))\n",
    "    model.add(Dropout(0.2))\n",
    "    \n",
    "    #Dense-Schichten\n",
    "    model.add(Dense(units = 64, activation = \"relu\", kernel_regularizer = regularizers.l2(0.05)))\n",
    "    model.add(Dense(units = 32, activation = \"relu\", kernel_regularizer = regularizers.l2(0.05)))\n",
    "    model.add(Dense(units = 16, activation = \"relu\", kernel_regularizer = regularizers.l2(0.05)))\n",
    "    model.add(Dense(units = 8, activation = \"relu\", kernel_regularizer = regularizers.l2(0.05)))\n",
    "    model.add(Dense(units = 1))\n",
    "    \n",
    "    model.compile(loss = \"mean_squared_error\", optimizer = \"adam\")\n",
    "    return model\n",
    "\n",
    "# Erstellen eines KeraRegressor\n",
    "gru = KerasRegressor(model = create_model, verbose = 0)\n",
    "\n",
    "# Fit\n",
    "gru.fit(X_train_reshaped, y_train, epochs = 100, batch_size = 32)\n",
    "\n",
    "# Bewertung auf Basis der Testdaten\n",
    "gru_test_score = gru.score(X_test_reshaped, y_test)\n",
    "print(\"test R^2 score Gated Recurrent Unit: {:.2f}%\".format(gru_test_score * 100))\n",
    "\n",
    "# Vorhersage auf Basis der Testdaten\n",
    "y_pred = gru.predict(X_test_reshaped)\n",
    "\n",
    "# mean_absolute_error\n",
    "mae = mean_absolute_error(y_test, y_pred)\n",
    "\n",
    "# mean_squared_error\n",
    "mse = mean_squared_error(y_test, y_pred)\n",
    "\n",
    "# Root mean squared error\n",
    "rmse = np.sqrt(mse)\n",
    "\n",
    "# mean absolute percentage error\n",
    "mape = mean_absolute_percentage_error(y_test, y_pred)\n",
    "\n",
    "print(\"Mean Absolute Error (MAE) Gated Recurrent Unit: {:.2f}\".format(mae))\n",
    "print(\"Mean Squared Error (MSE) Gated Recurrent Unit: {:.2f}\".format(mse))\n",
    "print(\"Root Mean Squared Error (RMSE) Gated Recurrent Unit: {:.2f}\".format(rmse))\n",
    "print(\"Mean Absolute Percentage Error (MAPE) Gated Recurrent Unit: {:.2f}\".format(mape))"
   ]
  }
 ],
 "metadata": {
  "kernelspec": {
   "display_name": "testenv_smp",
   "language": "python",
   "name": "testenv_smp"
  },
  "language_info": {
   "codemirror_mode": {
    "name": "ipython",
    "version": 3
   },
   "file_extension": ".py",
   "mimetype": "text/x-python",
   "name": "python",
   "nbconvert_exporter": "python",
   "pygments_lexer": "ipython3",
   "version": "3.10.11"
  }
 },
 "nbformat": 4,
 "nbformat_minor": 5
}
