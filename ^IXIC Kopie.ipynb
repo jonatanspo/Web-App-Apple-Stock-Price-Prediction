{
 "cells": [
  {
   "cell_type": "markdown",
   "id": "f5a671f0-96d3-4740-94a1-847cda82f9ae",
   "metadata": {},
   "source": [
    "# NASDAQ Composite Index\n",
    "\n",
    "Für die Berechnung der Schlusskurs des vorherigen Tages ist es notwendig, dass der Datensatz bereits den Schlusskurs des 11.12.1980 beinhaltet, um die prozentuale Veränderung des 12.12.1980 zu berechnen. Diese Berechnung wird dann in einer neuen Spalte (\"diff_IXIC\") gespeichert. Ähnlich wie bei der Aufbereitung des Apple Datensatzes, entsteht durch die Anwendung des *shift(1)* Befehls eine Zeile mit einem fehlenden Wert, die anschließend entfernt wird. Dadurch liegt ein Datensatz vor, der Daten vom 12.12.1980 bis zum 25.04.2923 beinhaltet.\n",
    "\n",
    "Der Schlusskurs des NASDAQ Composite Index ist für die weitere Verwendung nicht mehr relevant und kann daher aus dem Datensatz entfernt werden, wodurch ein Datensatz vorliegt, der lediglich aus der prozentualen Veränderung des IXIC-Kurses besteht. Wichtig ist, dass der Index des Datensatzes der Gleiche ist, wie der des Apple Datensatzes, damit die Spalte (\"diff_IXIC\") dem Apple Datensatz hinzugefügt werden kann.\n",
    "\n",
    "Damit in dem Jupyter Notebook *Apple_SMP_Datenaufbereitung* mit dem neuen Merkmal des NASDAQ Composite Index gearbeitet werden kann wird der Datensatz, der das Merkmal der prozentualen Veränderung enthält, als *df_IXIC* abgespeichert. "
   ]
  },
  {
   "cell_type": "code",
   "execution_count": 8,
   "id": "932effd3-8b46-487f-a75d-27c3d42989d4",
   "metadata": {},
   "outputs": [],
   "source": [
    "#Importieren der benötigten Bibliothek\n",
    "import pandas as pd \n",
    "\n",
    "#Einlesen des Datensatzes des NASDAQ Composite Index\n",
    "df_IXIC = pd.read_csv(\"^IXIC.csv\", index_col = [\"Date\"], parse_dates=[\"Date\"]).drop(columns = [\"Open\", \"High\", \"Low\", \"Adj Close\", \"Volume\"])"
   ]
  },
  {
   "cell_type": "code",
   "execution_count": 9,
   "id": "5091e163-3a24-4741-9a77-38fcf1da77c1",
   "metadata": {},
   "outputs": [
    {
     "name": "stdout",
     "output_type": "stream",
     "text": [
      "                   Close\n",
      "Date                    \n",
      "1980-12-11    188.750000\n",
      "1980-12-12    191.220001\n",
      "1980-12-15    194.020004\n",
      "1980-12-16    191.880005\n",
      "1980-12-17    194.020004\n",
      "...                  ...\n",
      "2023-04-19  12157.230469\n",
      "2023-04-20  12059.559570\n",
      "2023-04-21  12072.459961\n",
      "2023-04-24  12037.200195\n",
      "2023-04-25  11799.160156\n",
      "\n",
      "[10682 rows x 1 columns]\n"
     ]
    }
   ],
   "source": [
    "print(df_IXIC.head(-1))"
   ]
  },
  {
   "cell_type": "code",
   "execution_count": 10,
   "id": "52ec3ecc-be9c-4c52-8091-0ef770b27d88",
   "metadata": {},
   "outputs": [],
   "source": [
    "#Berechnung der prozentualen Veränderung des Kurses des NASDAQ Composite Index\n",
    "df_IXIC[\"diff_IXIC\"] = (df_IXIC[\"Close\"] - df_IXIC[\"Close\"].shift(1)) / df_IXIC[\"Close\"].shift(1) * 100"
   ]
  },
  {
   "cell_type": "code",
   "execution_count": 11,
   "id": "ff93e7fa-7036-42c8-948f-bc13d982ecd7",
   "metadata": {},
   "outputs": [
    {
     "name": "stdout",
     "output_type": "stream",
     "text": [
      "Close        False\n",
      "diff_IXIC     True\n",
      "dtype: bool\n",
      "Close        0\n",
      "diff_IXIC    1\n",
      "dtype: int64\n"
     ]
    }
   ],
   "source": [
    "print(df_IXIC.isna().any())\n",
    "print(df_IXIC.isna().sum())"
   ]
  },
  {
   "cell_type": "code",
   "execution_count": 12,
   "id": "ecfc0ddc-3999-4c2c-874e-21fd9826b6d5",
   "metadata": {},
   "outputs": [],
   "source": [
    "#Löschen des fehlenden Wertes der durch den shift Befehl entsteht\n",
    "df_IXIC.dropna(inplace = True)\n",
    "\n",
    "#Löschen des Schlusskurses, da für den späteren Datensatz lediglich die prozentuale Veränderung des Index relevant ist\n",
    "df_IXIC.drop(columns = [\"Close\"], inplace = True)"
   ]
  },
  {
   "cell_type": "code",
   "execution_count": 13,
   "id": "22e4afd6-7ed8-48eb-8f0d-5ac6933dc7e1",
   "metadata": {},
   "outputs": [
    {
     "name": "stdout",
     "output_type": "stream",
     "text": [
      "            diff_IXIC\n",
      "Date                 \n",
      "1980-12-12   1.308610\n",
      "1980-12-15   1.464284\n",
      "1980-12-16  -1.102979\n",
      "1980-12-17   1.115280\n",
      "1980-12-18   1.025663\n"
     ]
    }
   ],
   "source": [
    "print(df_IXIC.head())"
   ]
  },
  {
   "cell_type": "code",
   "execution_count": 14,
   "id": "ccd0bc35-5270-416b-b1ce-448b1e95f83b",
   "metadata": {},
   "outputs": [
    {
     "name": "stdout",
     "output_type": "stream",
     "text": [
      "Stored 'df_IXIC' (DataFrame)\n"
     ]
    }
   ],
   "source": [
    "%store df_IXIC"
   ]
  }
 ],
 "metadata": {
  "kernelspec": {
   "display_name": "testenv_smp",
   "language": "python",
   "name": "testenv_smp"
  },
  "language_info": {
   "codemirror_mode": {
    "name": "ipython",
    "version": 3
   },
   "file_extension": ".py",
   "mimetype": "text/x-python",
   "name": "python",
   "nbconvert_exporter": "python",
   "pygments_lexer": "ipython3",
   "version": "3.10.11"
  }
 },
 "nbformat": 4,
 "nbformat_minor": 5
}
