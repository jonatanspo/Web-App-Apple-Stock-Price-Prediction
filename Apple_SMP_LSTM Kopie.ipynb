{
 "cells": [
  {
   "cell_type": "markdown",
   "id": "28e0c6e0-8aad-4abe-9d58-3c7912d2299e",
   "metadata": {},
   "source": [
    "# Long Short-Term Memory"
   ]
  },
  {
   "cell_type": "code",
   "execution_count": 537,
   "id": "0bfdbba5-49dc-4c6a-afc0-2be2eb90cd9f",
   "metadata": {},
   "outputs": [],
   "source": [
    "#Import des Apple Datensatzes\n",
    "%store -r df "
   ]
  },
  {
   "cell_type": "code",
   "execution_count": 538,
   "id": "746be9e2-7a7e-4ed2-81b3-4fdf290bd784",
   "metadata": {},
   "outputs": [],
   "source": [
    "# Import der benötigten Bibliotheken für Neuronale Netze\n",
    "import numpy as np\n",
    "from sklearn.model_selection import train_test_split, GridSearchCV\n",
    "from sklearn.preprocessing import MinMaxScaler\n",
    "from sklearn.metrics import mean_absolute_error, mean_squared_error, mean_absolute_percentage_error\n",
    "\n",
    "from scikeras.wrappers import KerasRegressor\n",
    "from tensorflow.keras.models import Sequential\n",
    "from tensorflow.keras.layers import Dense, LSTM, Dropout\n",
    "from tensorflow.keras.optimizers import Adam\n",
    "from tensorflow.keras import regularizers"
   ]
  },
  {
   "cell_type": "code",
   "execution_count": 539,
   "id": "00a0820e-6f53-432f-be16-6c9d5bdbe529",
   "metadata": {},
   "outputs": [],
   "source": [
    "# Aufteilung in Trainings- und Testdaten\n",
    "X = df.drop(columns = [\"close_next\"])\n",
    "y = df[\"close_next\"]\n",
    "\n",
    "# Trainings- und Testdaten\n",
    "X_train_test, X_test, y_train_test, y_test = train_test_split(X, y, test_size = 0.2, random_state = 42)\n",
    "\n",
    "# Trainings- und Validierungsdaten\n",
    "X_train, X_val, y_train, y_val = train_test_split(X_train_test, y_train_test, test_size = 0.25, random_state = 42)\n",
    "\n",
    "# Daten Normalisieren mithilfe des MinMaxScaler\n",
    "sc = MinMaxScaler()\n",
    "X_train_scaled = sc.fit_transform(X_train)\n",
    "X_test_scaled = sc.transform(X_test)\n",
    "X_val_scaled = sc.transform(X_val)"
   ]
  },
  {
   "cell_type": "code",
   "execution_count": 540,
   "id": "a2fc79f6-61eb-4a09-8cf8-5ea297c7eafc",
   "metadata": {},
   "outputs": [],
   "source": [
    "# Reshape der Eingabedaten, damit das LSTM-Modell trainiert werden kann\n",
    "X_train_reshaped = X_train_scaled.reshape(X_train_scaled.shape[0], 1, X_train_scaled.shape[1])\n",
    "X_test_reshaped = X_test_scaled.reshape(X_test_scaled.shape[0], 1, X_test_scaled.shape[1])\n",
    "X_val_reshaped = X_val_scaled.reshape(X_val_scaled.shape[0], 1, X_val_scaled.shape[1])"
   ]
  },
  {
   "cell_type": "markdown",
   "id": "35c361df-a978-44b3-b7a3-c28db26a4e7e",
   "metadata": {},
   "source": [
    "### LSTM-Modell:"
   ]
  },
  {
   "cell_type": "code",
   "execution_count": 592,
   "id": "b09a42fc-77ce-4196-8a90-4997f1ca2126",
   "metadata": {},
   "outputs": [
    {
     "name": "stdout",
     "output_type": "stream",
     "text": [
      "test R^2 score LSTM-Modell: 99.93%\n",
      "Mean Absolute Error (MAE) LSTM-Modell: 0.45\n",
      "Mean Squared Error (MSE) LSTM-Modell: 0.93\n",
      "Root Mean Squared Error (RMSE) LSTM-Modell: 0.97\n",
      "Mean Absolute Percentage Error (MAPE) LSTM-Modell: 0.60\n"
     ]
    }
   ],
   "source": [
    "# Funktion zur Erstellung des Keras Modells\n",
    "def create_model():\n",
    "    model = Sequential()\n",
    "    \n",
    "    #Erste LSTM-Schicht\n",
    "    model.add(LSTM(units = 256, return_sequences = True, input_shape = (1, 7)))\n",
    "    model.add(Dropout(0.2))\n",
    "    \n",
    "    #Zweite LSTM-Schicht\n",
    "    model.add(LSTM(units = 512, return_sequences = True))\n",
    "    model.add(Dropout(0.2))\n",
    "    \n",
    "    #dritte LSTM-Schicht\n",
    "    model.add(LSTM(units = 512, return_sequences = True))\n",
    "    model.add(Dropout(0.2))\n",
    "    \n",
    "    #vierte LSTM-Schicht\n",
    "    model.add(LSTM(units = 512, return_sequences = True))\n",
    "    model.add(Dropout(0.2))\n",
    "    \n",
    "    #fünfte LSTM-Schicht\n",
    "    model.add(LSTM(units = 256))\n",
    "    model.add(Dropout(0.2))\n",
    "    \n",
    "    #Dense-Schichten\n",
    "    model.add(Dense(units = 64, activation = \"relu\", kernel_regularizer = regularizers.l2(0.05)))\n",
    "    model.add(Dense(units = 32, activation = \"relu\", kernel_regularizer = regularizers.l2(0.05)))\n",
    "    model.add(Dense(units = 16, activation = \"relu\", kernel_regularizer = regularizers.l2(0.05)))\n",
    "    model.add(Dense(units = 8, activation = \"relu\", kernel_regularizer = regularizers.l2(0.05)))\n",
    "    model.add(Dense(units = 1))\n",
    "    \n",
    "    model.compile(loss = \"mean_squared_error\", optimizer = \"adam\")\n",
    "    return model\n",
    "\n",
    "# Erstellen eines KerasRegressor\n",
    "lstm = KerasRegressor(model = create_model, verbose = 0)\n",
    "\n",
    "# Fit\n",
    "lstm.fit(X_train_reshaped, y_train, epochs = 200, batch_size = 64)\n",
    "\n",
    "# Bewertung auf Basis der Testdaten\n",
    "lstm_test_score = lstm.score(X_test_reshaped, y_test)\n",
    "print(\"test R^2 score LSTM-Modell: {:.2f}%\".format(lstm_test_score * 100))\n",
    "\n",
    "# Vorhersage auf Basis der Testdaten\n",
    "y_pred = lstm.predict(X_test_reshaped)\n",
    "\n",
    "# mean_absolute_error\n",
    "mae = mean_absolute_error(y_test, y_pred)\n",
    "\n",
    "# mean_squared_error\n",
    "mse = mean_squared_error(y_test, y_pred)\n",
    "\n",
    "# Root mean squared error\n",
    "rmse = np.sqrt(mse)\n",
    "\n",
    "# mean absolute percentage error\n",
    "mape = mean_absolute_percentage_error(y_test, y_pred)\n",
    "\n",
    "print(\"Mean Absolute Error (MAE) LSTM-Modell: {:.2f}\".format(mae))\n",
    "print(\"Mean Squared Error (MSE) LSTM-Modell: {:.2f}\".format(mse))\n",
    "print(\"Root Mean Squared Error (RMSE) LSTM-Modell: {:.2f}\".format(rmse))\n",
    "print(\"Mean Absolute Percentage Error (MAPE) LSTM-Modell: {:.2f}\".format(mape))"
   ]
  }
 ],
 "metadata": {
  "kernelspec": {
   "display_name": "testenv_smp",
   "language": "python",
   "name": "testenv_smp"
  },
  "language_info": {
   "codemirror_mode": {
    "name": "ipython",
    "version": 3
   },
   "file_extension": ".py",
   "mimetype": "text/x-python",
   "name": "python",
   "nbconvert_exporter": "python",
   "pygments_lexer": "ipython3",
   "version": "3.10.11"
  }
 },
 "nbformat": 4,
 "nbformat_minor": 5
}
