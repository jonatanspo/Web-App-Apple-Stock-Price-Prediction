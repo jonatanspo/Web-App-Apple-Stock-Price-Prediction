{
 "cells": [
  {
   "cell_type": "markdown",
   "id": "a84fd10a-5869-4b39-bf54-dcacb2d1c1a4",
   "metadata": {},
   "source": [
    "# Decision Tree"
   ]
  },
  {
   "cell_type": "code",
   "execution_count": 20,
   "id": "0ff93a47-5a3b-4539-85bd-861760288159",
   "metadata": {},
   "outputs": [],
   "source": [
    "# Import des Apple Datensatzes\n",
    "%store -r df"
   ]
  },
  {
   "cell_type": "code",
   "execution_count": 24,
   "id": "32057e22-735c-4bae-a447-42ce1e3acc4b",
   "metadata": {},
   "outputs": [],
   "source": [
    "# Import der benötigten Bibliotheken\n",
    "import numpy as np\n",
    "from sklearn.model_selection import train_test_split, GridSearchCV, RepeatedKFold\n",
    "from sklearn.tree import DecisionTreeRegressor\n",
    "from sklearn.metrics import mean_absolute_error, mean_squared_error, mean_absolute_percentage_error\n",
    "from sklearn.preprocessing import MinMaxScaler"
   ]
  },
  {
   "cell_type": "code",
   "execution_count": 25,
   "id": "f7c93b7d-8d8f-4157-a959-5538fcbf3ece",
   "metadata": {},
   "outputs": [],
   "source": [
    "# Aufteilung in Trainings- und Testdaten\n",
    "X = df.drop(columns = [\"close_next\"])\n",
    "y = df[\"close_next\"]\n",
    "\n",
    "# Trainings- und Testdaten\n",
    "X_train_test, X_test, y_train_test, y_test = train_test_split(X, y, test_size = 0.2, random_state = 42)\n",
    "\n",
    "# Trainings- und Validierungsdaten\n",
    "X_train, X_val, y_train, y_val = train_test_split(X_train_test, y_train_test, test_size = 0.25, random_state = 42)\n",
    "\n",
    "# Daten Normalisieren mithilfe des MinMaxScaler\n",
    "sc = MinMaxScaler()\n",
    "X_train_scaled = sc.fit_transform(X_train)\n",
    "X_test_scaled = sc.transform(X_test)\n",
    "X_val_scaled = sc.transform(X_val)"
   ]
  },
  {
   "cell_type": "markdown",
   "id": "904ab1cd-7c57-4b92-a639-fae8b6f00e64",
   "metadata": {},
   "source": [
    "### Decision Tree:"
   ]
  },
  {
   "cell_type": "code",
   "execution_count": 26,
   "id": "9018fd4f-e9b9-4c6d-9216-68eb9c700cee",
   "metadata": {},
   "outputs": [
    {
     "name": "stdout",
     "output_type": "stream",
     "text": [
      "Best params DecisionTreeRegressor:  {'max_depth': 10, 'min_samples_leaf': 10, 'min_samples_split': 2}\n",
      "R^2 Score DecisionTreeRegressor: 99.90%\n",
      "test R^2 score DecisionTreeRegressor: 99.94%\n",
      "Mean Absolute Error (MAE) Decision Tree: 0.29\n",
      "Mean Squared Error (MSE) Decision Tree: 0.82\n",
      "Root Mean Squared Error (RMSE) Decision Tree: 0.91\n",
      "Mean Absolute Percentage Error (MAPE) Decision Tree: 0.03\n"
     ]
    }
   ],
   "source": [
    "# Decision Tree 1\n",
    "\n",
    "# GridSearchCV mit Repeated KFold cross validation\n",
    "dt = GridSearchCV(DecisionTreeRegressor(), param_grid = {\n",
    "\"max_depth\": [3, 5, 10, 20],\n",
    "\"min_samples_split\": [2, 5, 10],\n",
    "\"min_samples_leaf\": [1, 3, 5, 10],\n",
    "}, cv = RepeatedKFold(), n_jobs = -1)\n",
    "\n",
    "dt.fit(X_train_scaled, y_train)\n",
    "\n",
    "# Überprüfung und Ausgabe der besten Hyperparameter\n",
    "best_params = dt.best_params_ \n",
    "print(\"Best params DecisionTreeRegressor: \", best_params)\n",
    "dt_best_params = DecisionTreeRegressor(**best_params)\n",
    "dt_best_params.fit(X_train_scaled, y_train)\n",
    "dt_val_score = dt_best_params.score(X_val_scaled, y_val)\n",
    "print(\"R^2 Score DecisionTreeRegressor: {:.2f}%\".format(dt_val_score * 100))\n",
    "\n",
    "\n",
    "# Bewertung auf Basis der Testdaten\n",
    "dt_test_score = dt_best_params.score(X_test_scaled, y_test)\n",
    "print(\"test R^2 score DecisionTreeRegressor: {:.2f}%\".format(dt_test_score * 100))\n",
    "\n",
    "# Vorhersage auf Basis der Testdaten\n",
    "y_pred = dt_best_params.predict(X_test_scaled)\n",
    "\n",
    "# mean_absolute_error\n",
    "mae = mean_absolute_error(y_test, y_pred)\n",
    "\n",
    "# mean_squared_error\n",
    "mse = mean_squared_error(y_test, y_pred)\n",
    "\n",
    "# Root mean squared error\n",
    "rmse = np.sqrt(mse)\n",
    "\n",
    "# mean absolute percentage error\n",
    "mape = mean_absolute_percentage_error(y_test, y_pred)\n",
    "\n",
    "print(\"Mean Absolute Error (MAE) Decision Tree: {:.2f}\".format(mae))\n",
    "print(\"Mean Squared Error (MSE) Decision Tree: {:.2f}\".format(mse))\n",
    "print(\"Root Mean Squared Error (RMSE) Decision Tree: {:.2f}\".format(rmse))\n",
    "print(\"Mean Absolute Percentage Error (MAPE) Decision Tree: {:.2f}\".format(mape))"
   ]
  },
  {
   "cell_type": "markdown",
   "id": "4cb6ab76-2722-4ab4-8a96-a566d1c48f5e",
   "metadata": {},
   "source": [
    "### Decision Tree Beispiel mit komplexeren GridSearch CV:"
   ]
  },
  {
   "cell_type": "code",
   "execution_count": null,
   "id": "69ccb51c-0b5f-4939-afa6-ad11bd5371e6",
   "metadata": {},
   "outputs": [],
   "source": [
    "# DecisionTree 2 (Beispiel)\n",
    "\n",
    "# GridSearchCV mit repeated 5-fold cross validation\n",
    "dt = GridSearchCV(DecisionTreeRegressor(), param_grid = {\n",
    "\"criterion\": [\"squared_error\", \"friedman_mse\", \"absolute_error\", \"poisson\"],\n",
    "\"splitter\": [\"best\", \"random\"],\n",
    "\"max_depth\": [None, 5, 10, 15, 20],\n",
    "\"min_samples_split\": range(2, 21),\n",
    "\"min_samples_leaf\": range(1, 21),\n",
    "\"min_weight_fraction_leaf\": [0.0, 0.1, 0.2, 0.3, 0.4], \n",
    "\"max_features\": [None, \"auto\", \"sqrt\", \"log2\"], \n",
    "\"max_leaf_nodes\": [5, 10, 15, 20, 25], \n",
    "\"min_impurity_decrease\": [0.0, 0.01, 0.02, 0.03, 0.04],  \n",
    "\"ccp_alpha\": [0.0, 0.1, 0.2, 0.3, 0.4]\n",
    "}, cv = RepeatedKFold(), n_jobs = -1)\n",
    "\n",
    "dt.fit(X_train_scaled, y_train)\n",
    "\n",
    "# Überprüfung und Ausgabe der besten Hyperparameter\n",
    "best_params = dt.best_params_ \n",
    "print(\"Best params DecisionTreeRegressor: \", best_params)\n",
    "dt_best_params = DecisionTreeRegressor(**best_params)\n",
    "dt_best_params.fit(X_train_scaled, y_train)\n",
    "dt_val_score = dt_best_params.score(X_val_scaled, y_val)\n",
    "print(\"R^2 Score DecisionTreeRegressor: {:.2f}%\".format(dt_val_score * 100))\n",
    "\n",
    "\n",
    "# Bewertung auf Basis der Testdaten\n",
    "dt_test_score = dt_best_params.score(X_test_scaled, y_test)\n",
    "print(\"test R^2 score DecisionTreeRegressor: {:.2f}%\".format(dt_test_score * 100))\n",
    "\n",
    "# Vorhersage auf Basis der Testdaten\n",
    "y_pred = dt_best_params.predict(X_test_scaled)\n",
    "\n",
    "# mean_absolute_error\n",
    "mae = mean_absolute_error(y_test, y_pred)\n",
    "\n",
    "# mean_squared_error\n",
    "mse = mean_squared_error(y_test, y_pred)\n",
    "\n",
    "# Root mean squared error\n",
    "rmse = np.sqrt(mse)\n",
    "\n",
    "# mean absolute percentage error\n",
    "mape = mean_absolute_percentage_error(y_test, y_pred)\n",
    "\n",
    "print(\"Mean Absolute Error (MAE) DecisionTreeRegressor: {:.2f}\".format(mae))\n",
    "print(\"Mean Squared Error (MSE) DecisionTreeRegressor: {:.2f}\".format(mse))\n",
    "print(\"Root Mean Squared Error (RMSE) DecisionTreeRegressor: {:.2f}\".format(rmse))\n",
    "print(\"Mean Absolute Percentage Error (MAPE) Decision Tree: {:.2f}\".format(mape))"
   ]
  }
 ],
 "metadata": {
  "kernelspec": {
   "display_name": "testenv_smp",
   "language": "python",
   "name": "testenv_smp"
  },
  "language_info": {
   "codemirror_mode": {
    "name": "ipython",
    "version": 3
   },
   "file_extension": ".py",
   "mimetype": "text/x-python",
   "name": "python",
   "nbconvert_exporter": "python",
   "pygments_lexer": "ipython3",
   "version": "3.10.11"
  }
 },
 "nbformat": 4,
 "nbformat_minor": 5
}
