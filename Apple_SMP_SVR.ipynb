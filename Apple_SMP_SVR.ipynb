{
 "cells": [
  {
   "cell_type": "markdown",
   "id": "35af2d93-72fd-4253-a949-2721b9912b19",
   "metadata": {},
   "source": [
    "# Support Vector Regressor"
   ]
  },
  {
   "cell_type": "code",
   "execution_count": 24,
   "id": "b7894e4c-76c0-4178-ba5f-b36ef6497cc4",
   "metadata": {},
   "outputs": [],
   "source": [
    "# Import des Apple Datensatzes\n",
    "%store -r df"
   ]
  },
  {
   "cell_type": "code",
   "execution_count": 25,
   "id": "f8726c40-8f10-4fa3-a612-4a81adccb332",
   "metadata": {},
   "outputs": [],
   "source": [
    "# Import der benötigten Bibliotheken\n",
    "import numpy as np\n",
    "from sklearn.model_selection import train_test_split, GridSearchCV, RepeatedKFold\n",
    "from sklearn.svm import SVR\n",
    "from sklearn.metrics import mean_absolute_error, mean_squared_error, mean_absolute_percentage_error\n",
    "from sklearn.preprocessing import MinMaxScaler"
   ]
  },
  {
   "cell_type": "code",
   "execution_count": 26,
   "id": "17ec9c87-16bf-47c9-a539-9667368af059",
   "metadata": {},
   "outputs": [],
   "source": [
    "# Aufteilung in Trainings- und Testdaten\n",
    "X = df.drop(columns = [\"close_next\"])\n",
    "y = df[\"close_next\"]\n",
    "\n",
    "# Trainings- und Testdaten\n",
    "X_train_test, X_test, y_train_test, y_test = train_test_split(X, y, test_size = 0.2, random_state = 42)\n",
    "\n",
    "# Trainings- und Validierungsdaten\n",
    "X_train, X_val, y_train, y_val = train_test_split(X_train_test, y_train_test, test_size = 0.25, random_state = 42)\n",
    "\n",
    "# Daten Normalisieren mithilfe des MinMaxScaler\n",
    "sc = MinMaxScaler()\n",
    "X_train_scaled = sc.fit_transform(X_train)\n",
    "X_test_scaled = sc.transform(X_test)\n",
    "X_val_scaled = sc.transform(X_val)"
   ]
  },
  {
   "cell_type": "markdown",
   "id": "e1ea96c2-4761-490a-95fa-d0a04869108b",
   "metadata": {},
   "source": [
    "### Support Vector Regressor: "
   ]
  },
  {
   "cell_type": "code",
   "execution_count": 27,
   "id": "824f9408-11d1-4d5f-879f-eb22604f63aa",
   "metadata": {},
   "outputs": [
    {
     "name": "stdout",
     "output_type": "stream",
     "text": [
      "Best params Support Vector Regressor:  {'C': 150, 'gamma': 0.1, 'kernel': 'linear'}\n",
      "R^2 Score Support Vector Regressor: 99.93%\n",
      "test R^2 score Support Vector Regressor: 99.96%\n",
      "Mean Absolute Error (MAE) Support Vector Regressor: 0.24\n",
      "Mean Squared Error (MSE) Support Vector Regressor: 0.58\n",
      "Root Mean Squared Error (RMSE) Support Vector Regressor: 0.76\n",
      "Mean Absolute Percentage Error (MAPE) Support Vector Regressor: 0.04\n"
     ]
    }
   ],
   "source": [
    "# Support Vector Regressor 1\n",
    "\n",
    "# GridSearchCV mit Repeated KFold cross validation\n",
    "svr = GridSearchCV(SVR(), param_grid = {\n",
    "    \"kernel\": ['linear', 'rbf', 'poly', 'sigmoid'],\n",
    "    \"C\": [0.1, 1, 10, 100, 120, 150],\n",
    "    \"gamma\": [0.1, 0.2, 0.3, 0.4],\n",
    "}, cv = RepeatedKFold(), n_jobs = -1)\n",
    "\n",
    "svr.fit(X_train_scaled, y_train)\n",
    "\n",
    "# Überprüfung und Ausgabe der besten Hyperparameter\n",
    "best_params = svr.best_params_ \n",
    "print(\"Best params Support Vector Regressor: \", best_params)\n",
    "svr_best_params = SVR(**best_params)\n",
    "svr_best_params.fit(X_train_scaled, y_train)\n",
    "svr_val_score = svr_best_params.score(X_val_scaled, y_val)\n",
    "print(\"R^2 Score Support Vector Regressor: {:.2f}%\".format(svr_val_score * 100))\n",
    "\n",
    "# Bewertung auf Basis der Testdaten\n",
    "svr_test_score = svr_best_params.score(X_test_scaled, y_test)\n",
    "print(\"test R^2 score Support Vector Regressor: {:.2f}%\".format(svr_test_score * 100))\n",
    "\n",
    "# Vorhersage auf Basis der Testdaten\n",
    "y_pred = svr_best_params.predict(X_test_scaled)\n",
    "\n",
    "# mean_absolute_error\n",
    "mae = mean_absolute_error(y_test, y_pred)\n",
    "\n",
    "# mean_squared_error\n",
    "mse = mean_squared_error(y_test, y_pred)\n",
    "\n",
    "# Root mean squared error\n",
    "rmse = np.sqrt(mse)\n",
    "\n",
    "# mean absolute percentage error\n",
    "mape = mean_absolute_percentage_error(y_test, y_pred)\n",
    "\n",
    "print(\"Mean Absolute Error (MAE) Support Vector Regressor: {:.2f}\".format(mae))\n",
    "print(\"Mean Squared Error (MSE) Support Vector Regressor: {:.2f}\".format(mse))\n",
    "print(\"Root Mean Squared Error (RMSE) Support Vector Regressor: {:.2f}\".format(rmse))\n",
    "print(\"Mean Absolute Percentage Error (MAPE) Support Vector Regressor: {:.2f}\".format(mape))"
   ]
  },
  {
   "cell_type": "markdown",
   "id": "8847f14d-7662-4a31-8e57-8349c8a222d6",
   "metadata": {},
   "source": [
    "### Support Vector Regressor mit komplexeren GridSearchCV:"
   ]
  },
  {
   "cell_type": "code",
   "execution_count": null,
   "id": "2ebcdca7-8957-4d1a-87d0-5f78adef5c1d",
   "metadata": {},
   "outputs": [],
   "source": [
    "# Support Vector Regressor 2 (Beispiel)\n",
    "\n",
    "# GridSearchCV mit Repeated KFold cross validation\n",
    "svr = GridSearchCV(SVR(), param_grid = {\n",
    "    \"kernel\": ['linear', 'rbf', 'poly', 'sigmoid'],\n",
    "    \"C\": [0.1, 1, 10, 100],\n",
    "    \"gamma\": [\"scale\", \"auto\", 0.1, 0.2, 0.3, 0.4],\n",
    "    \"epsilon\": [0.1, 0.2, 0.3, 0.4],\n",
    "    \"shrinking\": [True, False]\n",
    "}, cv = RepeatedKFold(), n_jobs = -1)\n",
    "\n",
    "svr.fit(X_train_scaled, y_train)\n",
    "\n",
    "# Überprüfung und Ausgabe der besten Hyperparameter\n",
    "best_params = svr.best_params_ \n",
    "print(\"Best params Support Vector Regressor: \", best_params)\n",
    "svr_best_params = SVR(**best_params)\n",
    "svr_best_params.fit(X_train_scaled, y_train)\n",
    "svr_val_score = svr_best_params.score(X_val_scaled, y_val)\n",
    "print(\"R^2 Score Support Vector Regressor: {:.2f}%\".format(svr_val_score * 100))\n",
    "\n",
    "# Bewertung auf Basis der Testdaten\n",
    "svr_test_score = svr_best_params.score(X_test_scaled, y_test)\n",
    "print(\"test R^2 score Support Vector Regressor: {:.2f}%\".format(svr_test_score * 100))\n",
    "\n",
    "# Vorhersage auf Basis der Testdaten\n",
    "y_pred = svr_best_params.predict(X_test_scaled)\n",
    "\n",
    "# mean_absolute_error\n",
    "mae = mean_absolute_error(y_test, y_pred)\n",
    "\n",
    "# mean_squared_error\n",
    "mse = mean_squared_error(y_test, y_pred)\n",
    "\n",
    "# Root mean squared error\n",
    "rmse = np.sqrt(mse)\n",
    "\n",
    "# mean absolute percentage error\n",
    "mape = mean_absolute_percentage_error(y_test, y_pred)\n",
    "\n",
    "print(\"Mean Absolute Error (MAE) Support Vector Regressor: {:.2f}\".format(mae))\n",
    "print(\"Mean Squared Error (MSE) Support Vector Regressor: {:.2f}\".format(mse))\n",
    "print(\"Root Mean Squared Error (RMSE) Support Vector Regressor: {:.2f}\".format(rmse))\n",
    "print(\"Mean Absolute Percentage Error (MAPE) Support Vector Regressor: {:.2f}\".format(mape))"
   ]
  }
 ],
 "metadata": {
  "kernelspec": {
   "display_name": "testenv_smp",
   "language": "python",
   "name": "testenv_smp"
  },
  "language_info": {
   "codemirror_mode": {
    "name": "ipython",
    "version": 3
   },
   "file_extension": ".py",
   "mimetype": "text/x-python",
   "name": "python",
   "nbconvert_exporter": "python",
   "pygments_lexer": "ipython3",
   "version": "3.10.11"
  }
 },
 "nbformat": 4,
 "nbformat_minor": 5
}
